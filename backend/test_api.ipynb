{
 "cells": [
  {
   "cell_type": "code",
   "execution_count": 59,
   "metadata": {},
   "outputs": [
    {
     "data": {
      "text/plain": [
       "<Response [200]>"
      ]
     },
     "execution_count": 59,
     "metadata": {},
     "output_type": "execute_result"
    }
   ],
   "source": [
    "import requests\n",
    "\n",
    "url = \"http://localhost:8000/api/upload/1\"\n",
    "\n",
    "paths = [\n",
    "    \"/home/nowickib/Desktop/images.jpeg\",\n",
    "    \"/home/nowickib/Desktop/images2.jpeg\"\n",
    "]\n",
    "\n",
    "files = [(\"media\", open(path, \"rb\")) for path in paths]\n",
    "requests.post(url, files=files)\n"
   ]
  }
 ],
 "metadata": {
  "kernelspec": {
   "display_name": "io-hack",
   "language": "python",
   "name": "python3"
  },
  "language_info": {
   "codemirror_mode": {
    "name": "ipython",
    "version": 3
   },
   "file_extension": ".py",
   "mimetype": "text/x-python",
   "name": "python",
   "nbconvert_exporter": "python",
   "pygments_lexer": "ipython3",
   "version": "3.9.16"
  },
  "orig_nbformat": 4
 },
 "nbformat": 4,
 "nbformat_minor": 2
}
