{
 "cells": [
  {
   "cell_type": "code",
   "execution_count": 31,
   "metadata": {},
   "outputs": [
    {
     "data": {
      "text/plain": [
       "<Response [200]>"
      ]
     },
     "execution_count": 31,
     "metadata": {},
     "output_type": "execute_result"
    }
   ],
   "source": [
    "import requests\n",
    "\n",
    "url = \"http://localhost:8000/api/upload/1\"\n",
    "\n",
    "# updated paths\n",
    "paths = [\".../images.jpeg\", \".../images2.jpeg\"]\n",
    "prompts = [\"Prompt1\", \"Prompt2\"]\n",
    "\n",
    "files = [(\"media\", open(path, \"rb\")) for path in paths]\n",
    "files += [(\"prompts\", prompt.encode()) for prompt in prompts]\n",
    "\n",
    "requests.post(url, files=files)\n"
   ]
  }
 ],
 "metadata": {
  "kernelspec": {
   "display_name": "io-hack",
   "language": "python",
   "name": "python3"
  },
  "language_info": {
   "codemirror_mode": {
    "name": "ipython",
    "version": 3
   },
   "file_extension": ".py",
   "mimetype": "text/x-python",
   "name": "python",
   "nbconvert_exporter": "python",
   "pygments_lexer": "ipython3",
   "version": "3.9.16"
  },
  "orig_nbformat": 4
 },
 "nbformat": 4,
 "nbformat_minor": 2
}
